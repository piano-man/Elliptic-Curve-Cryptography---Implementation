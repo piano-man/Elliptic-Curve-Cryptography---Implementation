{
 "cells": [
  {
   "cell_type": "code",
   "execution_count": 27,
   "metadata": {},
   "outputs": [],
   "source": [
    "from collections import namedtuple\n",
    "import matplotlib.pyplot as plt\n",
    "from sympy.ntheory import sqrt_mod\n",
    "from mpl_toolkits.mplot3d import Axes3D\n",
    "import numpy as np\n",
    "import math\n",
    "import random\n",
    "from scipy.stats import chisquare"
   ]
  },
  {
   "cell_type": "code",
   "execution_count": 38,
   "metadata": {},
   "outputs": [],
   "source": [
    "\n",
    "def binaryToDecimal(binary): \n",
    "      \n",
    "    decimal, i, n = 0, 0, 0\n",
    "    while(binary != 0): \n",
    "        dec = binary % 10\n",
    "        decimal = decimal + dec * pow(2, i) \n",
    "        binary = binary//10\n",
    "        i += 1\n",
    "    return decimal \n",
    "\n",
    "def isPrime(n):\n",
    "    for i in range(2,int(n**0.5)+1):\n",
    "        if n%i==0:\n",
    "            return False\n",
    "    return True\n",
    "\n",
    "\n",
    "def valid(P):\n",
    "    # print((P.y**2)%p)\n",
    "    # print((P.x**3 + a*P.x + b) % p)                  \n",
    "    if P == O:\n",
    "        return True\n",
    "    else:\n",
    "        return (\n",
    "            (P.y**2 - (P.x**3 + a*P.x + b)) % p == 0 and\n",
    "            0 <= P.x < p and 0 <= P.y < p)\n",
    "\n",
    "def inv_mod_p(x):\n",
    "    if x % p == 0:\n",
    "        raise ZeroDivisionError(\"Impossible inverse\")\n",
    "    return pow(x, p-2, p)\n",
    "\n",
    "def ec_inv(P):\n",
    "    if P == O:\n",
    "        return P\n",
    "    return Point(P.x, (-P.y)%p)\n",
    "\n",
    "def ec_add(P, Q):\n",
    "    if not (valid(P) and valid(Q)):\n",
    "        raise ValueError(\"Invalid inputs\")\n",
    "    if P == O:\n",
    "        result = Q\n",
    "    elif Q == O:\n",
    "        result = P\n",
    "    elif Q == ec_inv(P):\n",
    "        result = O\n",
    "    else:\n",
    "        if P == Q:\n",
    "            dydx = ((3 * P.x**2 + a) * inv_mod_p(2 * P.y)) % p\n",
    "        else:\n",
    "            dydx = ((Q.y - P.y) * inv_mod_p(Q.x - P.x)) % p\n",
    "        x = (dydx**2 - P.x - Q.x) % p\n",
    "        y = (dydx * (P.x - x) - P.y) % p\n",
    "        result = Point(x, y)\n",
    "    assert valid(result)\n",
    "    return result\n",
    "\n",
    "def test_singularity():\n",
    "    if (4*a**3+27*b**2)%p != 0:\n",
    "        print(\"the curve is non-singular\")\n",
    "    else:\n",
    "        print(\"the curve is singular and should not be used\")\n",
    "\n",
    "def plot_curve(p,a,b):\n",
    "    x= []\n",
    "    y = []\n",
    "    y_neg = []\n",
    "    for i in range(-1000,1000):\n",
    "        j = i**3 + a*i + b\n",
    "        x.append(i)\n",
    "        y.append(j)\n",
    "        y_neg.append(-1*j)\n",
    "    plt.plot(x,y)\n",
    "    plt.plot(x,y_neg)\n",
    "    plt.show()\n",
    "\n",
    "def curve_under_field(p,a,b):\n",
    "    for i in range(p):\n",
    "        j = i**3 + a*i + b\n",
    "        j_final = sqrt_mod(j,p,True)\n",
    "        # print(j_final)\n",
    "        if j_final==None:\n",
    "            continue\n",
    "        else:\n",
    "            if type(j_final)==list and len(j_final) > 1:\n",
    "                x_field.append(i)\n",
    "                x_field.append(i)\n",
    "                y_field.append(j_final[0])\n",
    "                y_field.append(j_final[1])\n",
    "#                 plt.scatter(i,j_final[0])\n",
    "#                 plt.scatter(i,j_final[1])\n",
    "# plt.show()\n",
    "\n",
    "def find_order(P):\n",
    "    cyclic_group = []\n",
    "    order = 0\n",
    "    P_inv = ec_inv(P)\n",
    "    # print(P)\n",
    "    # print(P_inv)\n",
    "    temp = P\n",
    "    while (temp.x!=P_inv.x) or (temp.y!=P_inv.y):\n",
    "        order = order+1\n",
    "        cyclic_group.append(temp)\n",
    "        temp = ec_add(temp , P)\n",
    "#         print(temp)\n",
    "    cyclic_group.append(temp)\n",
    "    return order+2,cyclic_group\n",
    "\n",
    "def get_q(P,d):\n",
    "    count = 0\n",
    "    temp = P\n",
    "    while count<d:\n",
    "        count = count+1\n",
    "        temp = ec_add(temp,P)\n",
    "    return temp\n",
    "\n",
    "def get_q_fast(P,d):\n",
    "    result = P\n",
    "    while d>0:\n",
    "        if(d&1):\n",
    "            result = ec_add(result,P)\n",
    "        d = d>>1\n",
    "        P = ec_add(P,P)\n",
    "    return result\n",
    "\n",
    "def generate_binary(n):\n",
    "    bin_arr = []\n",
    "    bin_str = [0] * n\n",
    "\n",
    "    for i in range(0, int(math.pow(2,n))):\n",
    "        bin_arr.append(\"\".join(map(str,bin_str))[::-1])\n",
    "        bin_str[0] += 1\n",
    "    # Iterate through entire array if there carrying\n",
    "        for j in range(0, len(bin_str) - 1):\n",
    "            if bin_str[j] == 2:\n",
    "\n",
    "                bin_str[j] = 0\n",
    "                bin_str[j+1] += 1\n",
    "                continue\n",
    "            else:\n",
    "                break\n",
    "    return bin_arr"
   ]
  },
  {
   "cell_type": "code",
   "execution_count": 39,
   "metadata": {},
   "outputs": [
    {
     "data": {
      "image/png": "[encoded data removed]",
      "text/plain": [
       "<Figure size 432x288 with 1 Axes>"
      ]
     },
     "metadata": {
      "needs_background": "light"
     },
     "output_type": "display_data"
    }
   ],
   "source": [
    "Point = namedtuple(\"Point\", \"x y\")\n",
    "O = 'Origin'\n",
    "a = 1\n",
    "b = 3\n",
    "p = 15733\n",
    "plot_curve(p,a,b)\n",
    "x_field = []\n",
    "y_field = []\n",
    "curve_under_field(p,a,b)\n",
    "P = Point(x=0,y=0)"
   ]
  },
  {
   "cell_type": "code",
   "execution_count": 35,
   "metadata": {},
   "outputs": [
    {
     "name": "stdout",
     "output_type": "stream",
     "text": [
      "5280\n",
      "5281 Point(x=0, y=4124)\n"
     ]
    }
   ],
   "source": [
    "#searching for P with prime order q\n",
    "prime_order = 0\n",
    "prime_order_point = Point(0,0)\n",
    "l = len(x_field)\n",
    "for i in range(l):\n",
    "    P = Point(x_field[i],y_field[i])\n",
    "    order,cyclic_group = find_order(P)\n",
    "    if isPrime(order) and order>5000:\n",
    "        prime_order = order\n",
    "        prime_order_point = P\n",
    "        break\n",
    "if prime_order!=0:\n",
    "    print(len(cyclic_group))\n",
    "print(prime_order,prime_order_point)"
   ]
  },
  {
   "cell_type": "code",
   "execution_count": 7,
   "metadata": {},
   "outputs": [],
   "source": [
    "f = open(\"test.txt\",\"w+\") \n",
    "k = math.floor(math.log(prime_order,2))\n",
    "# biniary_string = input(\"Enter \"+str(k)+\" digit string\")\n",
    "binary_array = generate_binary(k)\n",
    "random_strings = []\n",
    "# print(random_strings)\n",
    "for i in range(5000):\n",
    "    random_strings.append(int(binary_array[random.randint(1,(2**10)-1)]))\n",
    "# print(random_strings)\n",
    "random_points_x = []\n",
    "random_points_y = []\n",
    "random_numbers = []\n",
    "for i in range(5000):\n",
    "    d = binaryToDecimal(random_strings[i])\n",
    "    if d<prime_order:\n",
    "        random_numbers.append(d)\n",
    "        q = get_q_fast(P,d)\n",
    "        random_points_x.append(q.x)\n",
    "        random_points_y.append(q.y)\n",
    "#         f.write(str(q)+\"\\n\")"
   ]
  },
  {
   "cell_type": "code",
   "execution_count": 8,
   "metadata": {},
   "outputs": [],
   "source": [
    "random_numbers = np.array(random_numbers)\n",
    "random_points_x = np.array(random_points_x)\n",
    "random_points_y = np.array(random_points_y)\n",
    "random_numbers = random_numbers[0:10]\n",
    "random_points_x = random_points_x[0:10]\n",
    "random_points_y = random_points_y[0:10]"
   ]
  },
  {
   "cell_type": "code",
   "execution_count": 12,
   "metadata": {},
   "outputs": [
    {
     "name": "stdout",
     "output_type": "stream",
     "text": [
      "Power_divergenceResult(statistic=1013.0000000000002, pvalue=0.5733456009493356)\n"
     ]
    }
   ],
   "source": [
    "#testing for uniform randomness\n",
    "#chi square test\n",
    "dict_numbers = {}\n",
    "for i in range(len(random_numbers)):\n",
    "    dict_numbers[random_numbers[i]] = dict_numbers.get(random_numbers[i],0)+1\n",
    "frequency_array = []\n",
    "for i in range((2**10)-1):\n",
    "    frequency_array.append(dict_numbers.get(i,0))\n",
    "frequency_array = np.asarray(frequency_array)\n",
    "print(chisquare(frequency_array))"
   ]
  },
  {
   "cell_type": "code",
   "execution_count": 10,
   "metadata": {},
   "outputs": [
    {
     "data": {
      "image/png": "[encoded data removed]",
      "text/plain": [
       "<Figure size 432x288 with 1 Axes>"
      ]
     },
     "metadata": {
      "needs_background": "light"
     },
     "output_type": "display_data"
    }
   ],
   "source": [
    "#correlation testing\n",
    "labels = [0,1,2,4,8,16,32,64,128]\n",
    "# for x in range(10):\n",
    "#     labels.append(x)\n",
    "points_x = []\n",
    "points_y = []\n",
    "for x in labels:\n",
    "    points_x.append(random_points_x[x])\n",
    "    points_y.append(random_points_y[x])\n",
    "    print(random_points_x[x],random_points_y[x])\n",
    "fig, ax = plt.subplots()\n",
    "ax.plot(points_x,points_y)\n",
    "for i, txt in enumerate(labels):\n",
    "    ax.annotate(txt, (points_x[i],points_y[i]))"
   ]
  },
  {
   "cell_type": "code",
   "execution_count": null,
   "metadata": {},
   "outputs": [],
   "source": []
  }
 ],
 "metadata": {
  "kernelspec": {
   "display_name": "Python 3",
   "language": "python",
   "name": "python3"
  },
  "language_info": {
   "codemirror_mode": {
    "name": "ipython",
    "version": 3
   },
   "file_extension": ".py",
   "mimetype": "text/x-python",
   "name": "python",
   "nbconvert_exporter": "python",
   "pygments_lexer": "ipython3",
   "version": "3.7.0"
  }
 },
 "nbformat": 4,
 "nbformat_minor": 2
}
